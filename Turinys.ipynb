{
 "cells": [
  {
   "cell_type": "markdown",
   "id": "c58760a0",
   "metadata": {},
   "source": [
    "Šiame aplanke nusprendžiau surinkti kuo didesnę kolekciją algoritmų, kurie mano manymu yra svarbūs dirbant su dideliais duomenimis. Kiekvieną iš pateiktų uždavinių galima išspręsti naudojant Python, tačiau procesinimo greitis yra lėtas. Todėl yra naudojamos bibliotekos, leidžiančios vykdyti kalbą taip sparčiai, kaip su C. Kai kurios iš šių bibliotekų vykdo kodą ant kelių branduolių, taip dar padidindamos vykdymo spartą.\n",
    "\n",
    "Algoritmai yra skaidomi į vektorizuojamus ir nevektorizuojamus\n",
    "\n",
    "Vektorizuoti algoritmą reiškia kiekvieną jo dalį perrašyti vektoriniais metodais. Vektorinis metodas - tai metodas, vykdomas iteruojant masyvą griežtai nuo pradžios iki galo. Visi `numpy` bibliotekos metodai yra vektoriniai ir jų sparta atitinka C++ kalba leidžiamų analogiškų komandų spartą.\n",
    "\n",
    "Tam tikrų, daugiausiai grafų teorijos, uždavinių vektorizuoti nėra būdų. Grafų teorijos uždavinius kartais galima spręsti su C kalba rašyta biblioteka `igraph`. Tačiau negalėjimas vektorizuoti algoritmo - tai signalas, kad geriau jį rašyti su C++ kalba. Tokius uždavinius irgi kaupsiu, tikėdamasis, kad jų sprendimo studijavimas padeda susipažinti su algoritmavimo pagrindais, būtinais palengvinti kodo rašymą ateities darbuose.\n",
    "\n"
   ]
  },
  {
   "cell_type": "markdown",
   "id": "8bf99f0f",
   "metadata": {},
   "source": [
    "Uždavinys 1. Duotas dvimatis sveikųjų skaičių masyvas. Reikia suskaičiuoti, kiek kartų kiekvienas skaičius jame pasitaiko. "
   ]
  }
 ],
 "metadata": {
  "kernelspec": {
   "display_name": "Python 3 (ipykernel)",
   "language": "python",
   "name": "python3"
  },
  "language_info": {
   "codemirror_mode": {
    "name": "ipython",
    "version": 3
   },
   "file_extension": ".py",
   "mimetype": "text/x-python",
   "name": "python",
   "nbconvert_exporter": "python",
   "pygments_lexer": "ipython3",
   "version": "3.7.11"
  }
 },
 "nbformat": 4,
 "nbformat_minor": 5
}
