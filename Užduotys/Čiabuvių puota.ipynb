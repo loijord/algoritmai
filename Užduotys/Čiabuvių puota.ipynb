{
 "cells": [
  {
   "cell_type": "markdown",
   "id": "ff54efc6",
   "metadata": {},
   "source": [
    "***Nemunba*** gentyje visi labai stengiasi dėl bendros gerovės, tačiau jos išminčius ***Mateika*** yra įsitikinęs, kad kiekvieno nario indėlis yra nevienodas. Jis pasiūlė genties vadui ***Abruoliui*** naują tvarką atsilyginti kiekvienam gentainiui: visą savaitę skaičiuojami kiekvieno gentainio geri darbai, o pasibaigus savaitei genties grobis dalijamas roundais. Iš pradžių atlygio eilės tvarka pasiimti lai eina tie, kurie padarė bent vieną gerą darbą, paskui tie, kurie padarė bent du ir t.t. Parašykite programą, apskaičiuojančią bendro genties grobio išdalijimo eiliškumą.\n",
    "\n",
    "### Input\n",
    "Urnoje esantys gentainių, padariusių vieną ar kelis gerus darbus, numeriai:\n",
    "\n",
    "    X = np.array([3, 5, 3, 9, 9, 9, 9, 0, 0, 6, 8, 8, 7, 0, 5, 9, 7, 8, 1, 5, 8, 8, 1, 0, 7, 1, 9])\n",
    "    \n",
    "### Expected input\n",
    "Eilės tvarka, pagal kurią bus dalijamas savaitės grobis:\n",
    "\n",
    "    [0 1 3 5 6 7 8 9 0 1 3 5 7 8 9 0 1 3 5 7 8 9 0 1 5 7 8 9 0 8 9 8 9 8 9 9]\n",
    "    \n",
    "Source: [sort array with repeated values](https://stackoverflow.com/a/70329825/3044825)"
   ]
  },
  {
   "cell_type": "markdown",
   "id": "c4282d05",
   "metadata": {},
   "source": [
    "### Solution"
   ]
  },
  {
   "cell_type": "code",
   "execution_count": 2,
   "id": "86077fb7",
   "metadata": {},
   "outputs": [
    {
     "name": "stdout",
     "output_type": "stream",
     "text": [
      "[0 1 3 5 6 7 8 9 0 1 3 5 7 8 9 0 1 5 7 8 9 0 8 9 8 9 9]\n"
     ]
    }
   ],
   "source": [
    "import numpy as np\n",
    "\n",
    "def count_out(arr, N):\n",
    "    bins = np.bincount(arr, minlength=N) \n",
    "    threshold_idx = np.unique(bins[bins!=0]) \n",
    "    counts = np.diff(threshold_idx, prepend=0)\n",
    "    mask = (bins >= threshold_idx[:, None])\n",
    "    full_mask = np.repeat(mask, counts, axis=0)\n",
    "    blocks = np.repeat([np.arange(N)], np.sum(counts), axis=0)\n",
    "    return blocks[full_mask]\n",
    "\n",
    "N = 10\n",
    "X = np.array([3, 5, 3, 9, 9, 9, 9, 0, 0, 6, 8, 8, 7, 0, 5, 9, 7, 8, 1, 5, 8, 8, 1, 0, 7, 1, 9])\n",
    "\n",
    "print(count_out(X, N))"
   ]
  }
 ],
 "metadata": {
  "kernelspec": {
   "display_name": "Python 3 (ipykernel)",
   "language": "python",
   "name": "python3"
  },
  "language_info": {
   "codemirror_mode": {
    "name": "ipython",
    "version": 3
   },
   "file_extension": ".py",
   "mimetype": "text/x-python",
   "name": "python",
   "nbconvert_exporter": "python",
   "pygments_lexer": "ipython3",
   "version": "3.7.11"
  }
 },
 "nbformat": 4,
 "nbformat_minor": 5
}
