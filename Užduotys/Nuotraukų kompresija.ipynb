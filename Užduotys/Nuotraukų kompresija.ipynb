{
 "cells": [
  {
   "cell_type": "code",
   "execution_count": 1,
   "id": "1bffc259",
   "metadata": {},
   "outputs": [],
   "source": [
    "import numpy as np\n",
    "import numexpr as ne"
   ]
  },
  {
   "cell_type": "markdown",
   "id": "fdd81435",
   "metadata": {},
   "source": [
    "Įmonė ,,Geognitis\" gauna duomenis iš palydovo apie agrokultūras, auginamas Lietuvos sklypuose. Duomenis apie sklypų geografinį išsidėstymą galima parsisiųsti iš tam tikro serverio `.tiff` (nuotraukos) formatu. Iš tokių failų galima gana greitai nuskaityti dvimatį apytiksliai $30000\\times 40000$ dydžio `numpy` masyvą, kurio reikšmės yra `np.int32` tipo sveikieji skaičiai. Tai padarius paaiškėjo, kad apie 95% duomenų sudaro reikšmės, lygios -2147483648:\n",
    "\n",
    "    >>> np.array([2**31-1], dtype=np.int32)\n",
    "    array([2147483647])\n",
    "    >>> example + 1\n",
    "    array([-2147483648])\n",
    "    \n",
    "Šios reikšmės atitinka vieno aro žemės plotus, neturinčius duomenų apie jiems priskirtus sklypus. Visos kitos reikšmės - sveikieji skaičiai tarp 7000000 ir 8000000, atitinkantys kiekvienam arui priskirto sklypo numerį. \n",
    "\n",
    "Masyvui saugoti reikia $30000\\times 40000 \\times 4 = 4.8GB$ vietos. Tai labai stabdo tolimesnį duomenų procesinimą ir eikvoja atminties vietą diske. Todėl jūsų tikslas - kiek įmanoma sumažinti atminties resursus. Duomenų procesinimui užtenka naudoti tik 5 % duomenų: reikšmes, nelygias -2147483648. \n",
    "\n",
    "Parašykite programą, kuri sutraukia bet kurį pradinį $N\\times M$ matmenų masyvą $X$ į kuo mažiau atminties reikalaujančius kintamuosius, pakankamus atkurti $X$. Atkuriant $X$ laiko ir atminties taupymo sumetimais -2147483648 galima pakeisti į 0."
   ]
  },
  {
   "cell_type": "markdown",
   "id": "2a398880",
   "metadata": {},
   "source": [
    "## Input"
   ]
  },
  {
   "cell_type": "markdown",
   "id": "0084a7f1",
   "metadata": {},
   "source": [
    "    N, M = 20, 8\n",
    "    X = np.random.choice(np.array([-2147483648, 0]), p=[0.95, 0.05], size=(N,M))\n",
    "    idx1, idx2 = np.nonzero(X == 0)\n",
    "    X[idx1, idx2] = np.random.randint(7000000, 8000000, size=len(idx1))\n",
    "    with np.printoptions(linewidth=150):\n",
    "        print(f'X = np.array(\\n{np.array2string(X, separator=\", \")})')\n",
    "\n",
    "or:"
   ]
  },
  {
   "cell_type": "code",
   "execution_count": 173,
   "id": "bbe7872a",
   "metadata": {},
   "outputs": [],
   "source": [
    "X = np.array(\n",
    "[[-2147483648, -2147483648, -2147483648, -2147483648, -2147483648, -2147483648, -2147483648, -2147483648],\n",
    " [-2147483648, -2147483648, -2147483648, -2147483648, -2147483648, -2147483648, -2147483648,     7227728],\n",
    " [-2147483648, -2147483648, -2147483648, -2147483648, -2147483648, -2147483648, -2147483648,     7245152],\n",
    " [-2147483648, -2147483648, -2147483648, -2147483648, -2147483648, -2147483648, -2147483648, -2147483648],\n",
    " [-2147483648, -2147483648, -2147483648, -2147483648, -2147483648, -2147483648, -2147483648, -2147483648],\n",
    " [-2147483648, -2147483648,     7605751, -2147483648, -2147483648, -2147483648, -2147483648, -2147483648],\n",
    " [-2147483648, -2147483648, -2147483648, -2147483648,     7399137, -2147483648, -2147483648, -2147483648],\n",
    " [-2147483648, -2147483648, -2147483648, -2147483648, -2147483648, -2147483648, -2147483648, -2147483648],\n",
    " [-2147483648, -2147483648, -2147483648, -2147483648, -2147483648, -2147483648, -2147483648, -2147483648],\n",
    " [-2147483648, -2147483648, -2147483648, -2147483648, -2147483648, -2147483648, -2147483648, -2147483648],\n",
    " [-2147483648, -2147483648, -2147483648, -2147483648, -2147483648, -2147483648, -2147483648, -2147483648],\n",
    " [-2147483648, -2147483648, -2147483648, -2147483648, -2147483648, -2147483648, -2147483648, -2147483648],\n",
    " [    7954246, -2147483648, -2147483648, -2147483648, -2147483648, -2147483648, -2147483648, -2147483648],\n",
    " [-2147483648, -2147483648, -2147483648, -2147483648,     7119663, -2147483648, -2147483648, -2147483648],\n",
    " [-2147483648, -2147483648, -2147483648,     7422587, -2147483648, -2147483648, -2147483648, -2147483648],\n",
    " [-2147483648, -2147483648, -2147483648, -2147483648, -2147483648, -2147483648, -2147483648, -2147483648],\n",
    " [-2147483648, -2147483648, -2147483648, -2147483648, -2147483648, -2147483648,     7779695, -2147483648],\n",
    " [-2147483648, -2147483648, -2147483648,     7945685, -2147483648, -2147483648, -2147483648, -2147483648],\n",
    " [-2147483648, -2147483648, -2147483648, -2147483648, -2147483648, -2147483648, -2147483648, -2147483648],\n",
    " [-2147483648, -2147483648, -2147483648, -2147483648, -2147483648,     7801227, -2147483648, -2147483648]])"
   ]
  },
  {
   "cell_type": "markdown",
   "id": "9d457743",
   "metadata": {},
   "source": [
    "### Output\n",
    "Bet kokie kintamieji, užimantys kuo mažiau vietos, iš kurių galima atkurti X. "
   ]
  },
  {
   "cell_type": "markdown",
   "id": "190a9476",
   "metadata": {},
   "source": [
    "### Solutions"
   ]
  },
  {
   "cell_type": "code",
   "execution_count": 44,
   "id": "4e9f1e96",
   "metadata": {},
   "outputs": [],
   "source": [
    "#SIMULATE DATA:\n",
    "N, M = 10000, 10000\n",
    "X = np.random.choice(np.array([-2147483648, 0]), p=[0.95, 0.05], size=(N,M))\n",
    "idx1, idx2 = np.nonzero(X == 0)\n",
    "X[idx1, idx2] = np.random.randint(7000000, 8000000, size=len(idx1))"
   ]
  },
  {
   "cell_type": "markdown",
   "id": "156701ef",
   "metadata": {},
   "source": [
    "**Technologijos, kurias naudoja `numpy` (duomenys neužnulinami)**"
   ]
  },
  {
   "cell_type": "code",
   "execution_count": 5,
   "id": "fd967c9b",
   "metadata": {},
   "outputs": [
    {
     "data": {
      "text/plain": [
       "(10000, 10000)"
      ]
     },
     "execution_count": 5,
     "metadata": {},
     "output_type": "execute_result"
    }
   ],
   "source": [
    "def numpy_save(arr, name='compressions/numpy_save_geodata'):\n",
    "    np.save(name, arr)\n",
    "    \n",
    "def numpy_load_npy(name='compressions/numpy_save_geodata.npy'):\n",
    "    return np.load(name)\n",
    "\n",
    "numpy_save(X)\n",
    "numpy_load_npy().shape"
   ]
  },
  {
   "cell_type": "code",
   "execution_count": 6,
   "id": "2d1a5392",
   "metadata": {},
   "outputs": [
    {
     "data": {
      "text/plain": [
       "(10000, 10000)"
      ]
     },
     "execution_count": 6,
     "metadata": {},
     "output_type": "execute_result"
    }
   ],
   "source": [
    "def numpy_savez(arr, name='compressions/numpy_savez_geodata'):\n",
    "    np.savez(name, arr=arr)\n",
    "    \n",
    "def numpy_load_npz(name = 'compressions/numpy_savez_geodata.npz'):\n",
    "    load_data = np.load(name)\n",
    "    return load_data['arr']\n",
    "\n",
    "numpy_savez(X)\n",
    "numpy_load_npz().shape"
   ]
  },
  {
   "cell_type": "code",
   "execution_count": 8,
   "id": "52f80065",
   "metadata": {},
   "outputs": [
    {
     "data": {
      "text/plain": [
       "(10000, 10000)"
      ]
     },
     "execution_count": 8,
     "metadata": {},
     "output_type": "execute_result"
    }
   ],
   "source": [
    "def numpy_savez_compressed(arr, name='compressions/numpy_savez_compressed_geodata'):\n",
    "    np.savez_compressed(name, arr=arr)\n",
    "    \n",
    "def numpy_load_npz(name = 'compressions/numpy_savez_compressed_geodata.npz'):\n",
    "    load_data = np.load(name)\n",
    "    return load_data['arr']\n",
    "\n",
    "numpy_savez_compressed(X)\n",
    "numpy_load_npz().shape"
   ]
  },
  {
   "cell_type": "markdown",
   "id": "7778ac2e",
   "metadata": {},
   "source": [
    "**Technologijos, kurias įmanoma pasidaryti rankomis atsižvelgiant į duomenų pobūdį**. Some cheats:\n",
    "* Prieš sutraukiant duomenis atimamas mažiausias narys, kad jie būtų mažesni, o išskleidžiant - vėl pridedamas\n",
    "* Žinant mažiausio nario reikšmę 7000000, neeikvojamas laikas `np.min` funkcijai\n",
    "* `numexpr.evaluate` ne tik sparčiau tvarkosi su duomenų atkūrimu, bet ir išsprendžia tipų nesusiderinimo problemas, kurios kiltų analogiškus skaičiavimus darant per `numpy`.\n",
    "* Naudojamas skaidymas į stulpelius, kurių reikšmės neperžengia `(256, 256, 2, 2, 2, 2)`. Tai galima daryti tik būnant tikriems, kad duomenų diapazonas mažesnis už $2^{20} = 1048576$\n",
    "* `np.unravel_index(arr - minimum, (256, 256, 2, 2, 2, 2))` ateityje galima padaryti multicore."
   ]
  },
  {
   "cell_type": "code",
   "execution_count": 11,
   "id": "1c8e8837",
   "metadata": {},
   "outputs": [],
   "source": [
    "def _binary_pack(arr, minimum=7000000):\n",
    "    a,b,c,d,e,f = np.unravel_index(arr - minimum, (256, 256, 2, 2, 2, 2))\n",
    "    a,b,c,d,e,f = a.astype(np.uint8), b.astype(np.uint8), np.packbits(c), np.packbits(d), np.packbits(e), np.packbits(f)\n",
    "    return a,b,c,d,e,f\n",
    "\n",
    "def _binary_unpack(columns, minimum=7000000):\n",
    "    a,b,c,d,e,f = columns #I know that shape is going to be (256, 256, 2, 2, 2, 2)\n",
    "    c,d,e,f = np.unpackbits(c, count=a.size), np.unpackbits(d, count=a.size), np.unpackbits(e, count=a.size), np.unpackbits(f, count=a.size)\n",
    "    return ne.evaluate('minimum+4096*a+16*b+8*c+4*d+2*e+f', {'a':a, 'b':b, 'c':c, 'd':d, 'e':e, 'f':f,'minimum':minimum})\n",
    "\n",
    "def numpy_pack_geotiff(arr, name='compressions/numpy_pack_geotiff', compress=False, zero_val=-2147483648):\n",
    "    '''converts geotiff data into the smallest possible structure and saves it'''\n",
    "    arr_ravel = arr.ravel()\n",
    "    idx = arr_ravel != zero_val #TARGET 1\n",
    "    idx_pack = np.packbits(idx) \n",
    "    values = arr_ravel[idx] #TARGET 2\n",
    "    del idx\n",
    "    v0_pack, v1_pack, v2_pack, v3_pack, v4_pack, v5_pack = _binary_pack(values)\n",
    "    shape = np.array(arr.shape)\n",
    "    if compress: np.savez_compressed(name, idx_pack=idx_pack, shape=shape,\n",
    "                  v0_pack=v0_pack, v1_pack=v1_pack, v2_pack=v2_pack, v3_pack=v3_pack, v4_pack=v4_pack, v5_pack=v5_pack)\n",
    "    else: np.savez(name, idx_pack=idx_pack, shape=shape,\n",
    "                  v0_pack=v0_pack, v1_pack=v1_pack, v2_pack=v2_pack, v3_pack=v3_pack, v4_pack=v4_pack, v5_pack=v5_pack)\n",
    "    \n",
    "def numpy_unpack_geotiff(name='compressions/numpy_pack_geotiff.npz'):\n",
    "    '''retrieves geotiff data from saved file'''\n",
    "    load_data = np.load(name)\n",
    "    idx = np.unpackbits(load_data['idx_pack']).astype(bool)\n",
    "    values = _binary_unpack((load_data[f'v{n}_pack'] for n in range(6)))\n",
    "    shape = load_data['shape']\n",
    "    return idx, values, shape\n",
    "\n",
    "def numpy_restore_geotiff(idx, values, shape):\n",
    "    '''restores missing data of geotiff to make it 100% initial tiff'''\n",
    "    Z = np.zeros(shape, dtype=int)\n",
    "    Z.ravel()[idx] = values\n",
    "    return Z\n",
    "\n",
    "#numpy_pack_geotiff(X, compress=False) ## 1.79 secs\n",
    "#idx, values, shape = numpy_unpack_geotiff() ## 0.5 secs\n",
    "#XX = numpy_restore_geotiff(idx, values, shape) ## 0.5 secs\n",
    "#XX[XX == 0] = -2147483648 \n",
    "#np.array_equal(X, XX)"
   ]
  },
  {
   "cell_type": "code",
   "execution_count": 57,
   "id": "fe9a4646",
   "metadata": {},
   "outputs": [
    {
     "name": "stdout",
     "output_type": "stream",
     "text": [
      "1.79 s ± 0 ns per loop (mean ± std. dev. of 1 run, 1 loop each)\n"
     ]
    }
   ],
   "source": [
    "%%timeit -n 1 -r 1\n",
    "numpy_pack_geotiff(X, compress=False)"
   ]
  },
  {
   "cell_type": "code",
   "execution_count": 60,
   "id": "61590c4d",
   "metadata": {},
   "outputs": [
    {
     "name": "stdout",
     "output_type": "stream",
     "text": [
      "473 ms ± 0 ns per loop (mean ± std. dev. of 1 run, 1 loop each)\n"
     ]
    }
   ],
   "source": [
    "%%timeit -n 1 -r 1\n",
    "idx, values, shape = numpy_unpack_geotiff()"
   ]
  },
  {
   "cell_type": "code",
   "execution_count": 62,
   "id": "189c14fe",
   "metadata": {},
   "outputs": [
    {
     "name": "stdout",
     "output_type": "stream",
     "text": [
      "443 ms ± 0 ns per loop (mean ± std. dev. of 1 run, 1 loop each)\n"
     ]
    }
   ],
   "source": [
    "%%timeit -n 1 -r 1\n",
    "numpy_restore_geotiff(idx, values, shape)"
   ]
  },
  {
   "cell_type": "markdown",
   "id": "d7f297fc",
   "metadata": {},
   "source": [
    "### Real work with real big data"
   ]
  },
  {
   "cell_type": "markdown",
   "id": "c1e04d0c",
   "metadata": {},
   "source": [
    "Nusiskaitom masyvą iš 4GB dydžio failo. "
   ]
  },
  {
   "cell_type": "code",
   "execution_count": 2,
   "id": "99664b18",
   "metadata": {},
   "outputs": [
    {
     "name": "stdout",
     "output_type": "stream",
     "text": [
      "arr done, time: 59.919\n"
     ]
    }
   ],
   "source": [
    "from osgeo import gdal\n",
    "from time import time\n",
    "\n",
    "#path = 'paseliai/clf_LIT_2021_ET100_18pas.tif'\n",
    "path = 'paseliai/paseliai_2020_sklypo_ID.tif'\n",
    "\n",
    "def read_raster_arr(path):\n",
    "    '''returns array of blocks'''\n",
    "    ds = gdal.OpenEx(path, gdal.GA_ReadOnly) #raster_dataset\n",
    "    band = ds.GetRasterBand(1)\n",
    "    return band.ReadAsArray()\n",
    "\n",
    "def read_raster_gen(path):\n",
    "    '''returns generator of blocks'''\n",
    "    ds = gdal.OpenEx(path, gdal.GA_ReadOnly) #raster_dataset\n",
    "    band = ds.GetRasterBand(1)\n",
    "    w1, w2 = band.GetBlockSize()\n",
    "    for i in range(0, ds.RasterXSize, w1):\n",
    "        for j in range(0, ds.RasterYSize, w2):\n",
    "            yield band.ReadAsArray(i, j, w1, w2)\n",
    "            \n",
    "t = time()\n",
    "arr = read_raster_arr(path)\n",
    "print('arr done, time:', round(time()-t,3))"
   ]
  },
  {
   "cell_type": "markdown",
   "id": "a58609bf",
   "metadata": {},
   "source": [
    "Reikia ištaisyti kelias klaideles:\n",
    "* Iš tiesų duomenys yra ne `np.int32`, o `np.uint32` tipo. Tai reiškia, kad dauguma skaičių bus lygūs 4294967295.\n",
    "* Pastebim, kad tarpas tarp min ir max yra apie 1200000. Imsime duomenų formatą, kai vienam skaičiui įsiminti skiriama 3 baitai (o ne 2 baitai ir 5 bitai). \n",
    "* Masyvo dydis ne visada dalijasi iš 8. Šiuo atveju jo forma (28659, 37942). Todėl reikia nustatyti `count=np.prod(shape)` parametrą išpakuojant jo `bool` tipo indeksus."
   ]
  },
  {
   "cell_type": "code",
   "execution_count": 59,
   "id": "528e23cf",
   "metadata": {},
   "outputs": [],
   "source": [
    "def _sklypo_pack(arr):\n",
    "    a,b,c = np.unravel_index(arr, (256, 256, 256))\n",
    "    a,b,c = a.astype(np.uint8), b.astype(np.uint8), c.astype(np.uint8)\n",
    "    return a,b,c\n",
    "\n",
    "def _sklypo_unpack(columns):\n",
    "    a,b,c = columns #I know that shape is going to be (256, 256, 256)\n",
    "    return ne.evaluate('65536*a+256*b+c', {'a':a, 'b':b, 'c':c})\n",
    "\n",
    "def sklypo_pack_geotiff(arr, name='paseliai/sklypo_pack_geotiff', compress=False):\n",
    "    '''converts geotiff data into the smallest possible structure and saves it'''\n",
    "    t = time()\n",
    "    arr_ravel = arr.ravel()\n",
    "    idx = arr_ravel != 4294967295 #TARGET 1\n",
    "    print('Sudarė bool idx:', round(time()-t,3))\n",
    "    idx_pack = np.packbits(idx) \n",
    "    print('Supakavo bool idx:', round(time()-t,3))\n",
    "    values = arr_ravel[idx] #TARGET 2\n",
    "    print('Išrinko reikšmes su idx', round(time()-t,3))\n",
    "    del idx\n",
    "    print('Pratrynė idx:', round(time()-t,3))\n",
    "    v0_pack, v1_pack, v2_pack = _sklypo_pack(values)\n",
    "    print('Paskirstė baitus', round(time()-t,3))\n",
    "    shape = np.array(arr.shape)\n",
    "    if compress: np.savez_compressed(name, idx_pack=idx_pack, shape=shape,\n",
    "                  v0_pack=v0_pack, v1_pack=v1_pack, v2_pack=v2_pack)\n",
    "    else: np.savez(name, idx_pack=idx_pack, shape=shape,\n",
    "                  v0_pack=v0_pack, v1_pack=v1_pack, v2_pack=v2_pack)\n",
    "    \n",
    "def sklypo_unpack_geotiff(name='compressions/numpy_pack_geotiff.npz'):\n",
    "    '''retrieves geotiff data from saved file'''\n",
    "    load_data = np.load(name)\n",
    "    shape = load_data['shape']\n",
    "    values = _sklypo_unpack((load_data[f'v{n}_pack'] for n in range(3)))\n",
    "    idx = np.unpackbits(load_data['idx_pack'], count=np.prod(shape)).astype(bool)\n",
    "    return idx, values, shape\n",
    "\n",
    "def sklypo_restore_geotiff(idx, values, shape):\n",
    "    '''restores missing data of geotiff to make it 100% initial tiff'''\n",
    "    Z = np.empty(shape[0]*shape[1])\n",
    "    Z[idx] = values\n",
    "    return Z.reshape(shape)"
   ]
  },
  {
   "cell_type": "code",
   "execution_count": 4,
   "id": "77a9e470",
   "metadata": {},
   "outputs": [
    {
     "name": "stdout",
     "output_type": "stream",
     "text": [
      "Sudarė bool idx: 3.154\n",
      "Supakavo bool idx: 4.236\n",
      "Išrinko reikšmes su idx 7.324\n",
      "Pratrynė idx: 7.541\n",
      "Paskirstė baitus 11.397\n",
      "24.2 s ± 0 ns per loop (mean ± std. dev. of 1 run, 1 loop each)\n"
     ]
    }
   ],
   "source": [
    "%%timeit -n 1 -r 1\n",
    "sklypo_pack_geotiff(arr, 'paseliai/sklypo_ID_compress', compress=True)"
   ]
  },
  {
   "cell_type": "code",
   "execution_count": 60,
   "id": "732be65c",
   "metadata": {},
   "outputs": [
    {
     "name": "stdout",
     "output_type": "stream",
     "text": [
      "5.86 s ± 0 ns per loop (mean ± std. dev. of 1 run, 1 loop each)\n"
     ]
    }
   ],
   "source": [
    "%%timeit -n 1 -r 1\n",
    "idx, values, shape = sklypo_unpack_geotiff('paseliai/sklypo_ID_compress.npz')"
   ]
  },
  {
   "cell_type": "code",
   "execution_count": 61,
   "id": "1defb33a",
   "metadata": {},
   "outputs": [
    {
     "name": "stdout",
     "output_type": "stream",
     "text": [
      "6.77 s ± 0 ns per loop (mean ± std. dev. of 1 run, 1 loop each)\n"
     ]
    }
   ],
   "source": [
    "%%timeit -n 1 -r 1\n",
    "X = sklypo_restore_geotiff(idx, values, shape)"
   ]
  },
  {
   "cell_type": "markdown",
   "id": "d547891a",
   "metadata": {},
   "source": [
    "### Make sure results are correct\n",
    "Don't load two arrays or it will crash (assuming there are enough RAM to load initial dat from .tiff file). `gdal` proposes an option to load array block-by-block so the best way to make an equality check of two arrays is to compare them block-by-block."
   ]
  },
  {
   "cell_type": "code",
   "execution_count": null,
   "id": "97ebd618",
   "metadata": {},
   "outputs": [],
   "source": [
    "safe_equality_check = []\n",
    "for n, m in zip(read_raster_gen(path), X):\n",
    "    n[0,  n[0] == 4294967295] = 0\n",
    "    safe_equality_check.append(np.array_equal(n[0], m))\n",
    "np.all(safe_equality_check)"
   ]
  },
  {
   "cell_type": "code",
   "execution_count": 68,
   "id": "5f8c0c93",
   "metadata": {},
   "outputs": [
    {
     "data": {
      "text/plain": [
       "array([      0,       0,       0, ..., -840803,       0,       0],\n",
       "      dtype=int32)"
      ]
     },
     "execution_count": 68,
     "metadata": {},
     "output_type": "execute_result"
    }
   ],
   "source": []
  },
  {
   "cell_type": "code",
   "execution_count": 81,
   "id": "0d6adf91",
   "metadata": {},
   "outputs": [
    {
     "data": {
      "text/plain": [
       "50416784"
      ]
     },
     "execution_count": 81,
     "metadata": {},
     "output_type": "execute_result"
    }
   ],
   "source": [
    "len(values)"
   ]
  },
  {
   "cell_type": "code",
   "execution_count": 82,
   "id": "3f1aa3d8",
   "metadata": {},
   "outputs": [
    {
     "data": {
      "text/plain": [
       "array([-1196461, -1188091, -1186786, ...,  1192365,  1194893,  1198293],\n",
       "      dtype=int32)"
      ]
     },
     "execution_count": 82,
     "metadata": {},
     "output_type": "execute_result"
    }
   ],
   "source": [
    "u, counts = np.unique(np.diff(values), return_counts=True)\n",
    "idx = np.argsort(counts)\n",
    "\n",
    "u"
   ]
  },
  {
   "cell_type": "code",
   "execution_count": 83,
   "id": "2378f515",
   "metadata": {},
   "outputs": [
    {
     "data": {
      "image/png": "[encoded data removed]",
      "text/plain": [
       "<Figure size 1152x576 with 1 Axes>"
      ]
     },
     "metadata": {
      "needs_background": "light"
     },
     "output_type": "display_data"
    }
   ],
   "source": [
    "import matplotlib.pyplot as plt\n",
    "fig, ax = plt.subplots(figsize=(16,8))\n",
    "ax.plot(u)\n",
    "plt.show()"
   ]
  },
  {
   "cell_type": "code",
   "execution_count": null,
   "id": "4c1a453b",
   "metadata": {},
   "outputs": [],
   "source": []
  }
 ],
 "metadata": {
  "kernelspec": {
   "display_name": "Python 3 (ipykernel)",
   "language": "python",
   "name": "python3"
  },
  "language_info": {
   "codemirror_mode": {
    "name": "ipython",
    "version": 3
   },
   "file_extension": ".py",
   "mimetype": "text/x-python",
   "name": "python",
   "nbconvert_exporter": "python",
   "pygments_lexer": "ipython3",
   "version": "3.7.11"
  }
 },
 "nbformat": 4,
 "nbformat_minor": 5
}
