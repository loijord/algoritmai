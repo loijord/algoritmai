{
 "cells": [
  {
   "cell_type": "markdown",
   "id": "7fcfa6c3",
   "metadata": {},
   "source": [
    "Geimeris rašo bootą, kuris už jį loš pokerį ir uždirbs pinigus. Bet pirma jis turi jį apmokyti optimalios laiminčios strategijos.Tam reikia susimuliuoti daug pokerio partijų ir turėti veikiantį kodą, kuris nustatinėja turimas kiekvieno žaidėjo kortų kombinacijas. O tam reikia optimizuoti kai kurias nustatinėjimo proceso dalis.\n",
    "\n",
    "Vienoje dalyje yra pateikiamos tam tikro žaidėjo visų žaistų partijų baigtys su sąlyga, kad partija vyko iki galo (FLOP + TURN + RIVER + kortų atvertimas). Nustatykite, kiek kurios kategorijos kortų (2,3,4,5,6,7,8,9,10,J,Q,K,A) yra jo turimose rankose.\n",
    "\n",
    "Kortų kaladę sudaro šios 52 kortos:\n",
    "\n",
    "    2♠ 2♥ 2♦ 2♣ 3♠ 3♥ 3♦ 3♣ 4♠ 4♥ 4♦ 4♣ 5♠ 5♥ 5♦ 5♣ 6♠ 6♥ 6♦ 6♣ 7♠ 7♥ 7♦ 7♣ 8♠ 8♥ 8♦ 8♣ 9♠ 9♥ 9♦ 9♣ 10♠ 10♥ 10♦ 10♣ \n",
    "    J♠ J♥ J♦ J♣ Q♠ Q♥ Q♦ Q♣ K♠ K♥ K♦ K♣ A♠ A♥ A♦ A♣\n",
    "\n",
    "Bootas jas ženklina skaičiais:\n",
    "\n",
    "    0  1  2  3  4  5  6  7  8  9 10 11 12 13 14 15 16 17 18 19 20 21 22 23 24 25 26 \n",
    "    27 28 29 30 31 32 33 34 35 36 37 38 39 40 41 42 43 44 45 46 47 48 49 50 51"
   ]
  },
  {
   "cell_type": "markdown",
   "id": "53fd2b71",
   "metadata": {},
   "source": [
    "## MWE  \n",
    "### Input\n",
    "Žaidimų baigčių sąrašas:\n",
    "\n",
    "    X = np.tile(np.arange(52), (10, 1))\n",
    "    rng = np.random.default_rng()\n",
    "    X = rng.permuted(X, axis=1)[:,:7]\n",
    "    X\n",
    "\n",
    "or:\n",
    "\n",
    "    X = np.array([[34, 26, 39, 37, 40, 19, 31],\n",
    "                  [18, 31, 39, 34,  8,  3, 41],\n",
    "                  [ 1, 39, 19, 47, 20, 26,  6],\n",
    "                  [14, 16, 21, 44, 40, 10, 51],\n",
    "                  [28, 45, 32, 30, 26, 24, 33],\n",
    "                  [21, 47,  4, 31,  1, 34, 39],\n",
    "                  [12, 21, 15, 20, 46, 50, 25],\n",
    "                  [19,  1,  9, 14, 10, 44, 40],\n",
    "                  [47, 42, 28, 35, 34,  9,  3],\n",
    "                  [33, 22, 13, 21, 37, 16, 23]])\n",
    "                  \n",
    "### Expected output\n",
    "Turimų kortų 2,3,4,5,6,7,8,9,10,J,Q,K,A kiekiai \n",
    "\n",
    "    array([[0, 0, 0, 0, 1, 0, 1, 1, 1, 2, 1, 0, 0],\n",
    "           [1, 0, 1, 0, 1, 0, 0, 1, 1, 1, 1, 0, 0],\n",
    "           [1, 1, 0, 0, 1, 1, 1, 0, 0, 1, 0, 1, 0],\n",
    "           [0, 0, 1, 1, 1, 1, 0, 0, 0, 0, 1, 1, 1],\n",
    "           [0, 0, 0, 0, 0, 0, 2, 2, 2, 0, 0, 1, 0],\n",
    "           [1, 1, 0, 0, 0, 1, 0, 1, 1, 1, 0, 1, 0],\n",
    "           [0, 0, 0, 2, 0, 2, 1, 0, 0, 0, 0, 1, 1],\n",
    "           [1, 0, 2, 1, 1, 0, 0, 0, 0, 0, 1, 1, 0],\n",
    "           [1, 0, 1, 0, 0, 0, 0, 1, 2, 0, 1, 1, 0],\n",
    "           [0, 0, 0, 1, 1, 3, 0, 0, 1, 1, 0, 0, 0]])"
   ]
  },
  {
   "cell_type": "markdown",
   "id": "bd20480b",
   "metadata": {},
   "source": [
    "### Solutions"
   ]
  },
  {
   "cell_type": "code",
   "execution_count": 27,
   "id": "333261a4",
   "metadata": {},
   "outputs": [
    {
     "data": {
      "text/plain": [
       "array([[0, 0, 0, 0, 1, 0, 1, 1, 1, 2, 1, 0, 0],\n",
       "       [1, 0, 1, 0, 1, 0, 0, 1, 1, 1, 1, 0, 0],\n",
       "       [1, 1, 0, 0, 1, 1, 1, 0, 0, 1, 0, 1, 0],\n",
       "       [0, 0, 1, 1, 1, 1, 0, 0, 0, 0, 1, 1, 1],\n",
       "       [0, 0, 0, 0, 0, 0, 2, 2, 2, 0, 0, 1, 0],\n",
       "       [1, 1, 0, 0, 0, 1, 0, 1, 1, 1, 0, 1, 0],\n",
       "       [0, 0, 0, 2, 0, 2, 1, 0, 0, 0, 0, 1, 1],\n",
       "       [1, 0, 2, 1, 1, 0, 0, 0, 0, 0, 1, 1, 0],\n",
       "       [1, 0, 1, 0, 0, 0, 0, 1, 2, 0, 1, 1, 0],\n",
       "       [0, 0, 0, 1, 1, 3, 0, 0, 1, 1, 0, 0, 0]])"
      ]
     },
     "execution_count": 27,
     "metadata": {},
     "output_type": "execute_result"
    }
   ],
   "source": [
    "def count_bins(arr, M=None):\n",
    "    N = arr.shape[0]\n",
    "    if M is None: M = np.max(arr)+1\n",
    "    bincount_2D = np.zeros(shape=(N, M), dtype=int)\n",
    "    advanced_indexing = np.repeat(np.arange(N), arr.shape[1]), arr.ravel()\n",
    "    np.add.at(bincount_2D, advanced_indexing, 1)\n",
    "    return bincount_2D\n",
    "\n",
    "count_bins(X//4, M=13)"
   ]
  }
 ],
 "metadata": {
  "kernelspec": {
   "display_name": "Python 3 (ipykernel)",
   "language": "python",
   "name": "python3"
  },
  "language_info": {
   "codemirror_mode": {
    "name": "ipython",
    "version": 3
   },
   "file_extension": ".py",
   "mimetype": "text/x-python",
   "name": "python",
   "nbconvert_exporter": "python",
   "pygments_lexer": "ipython3",
   "version": "3.7.11"
  }
 },
 "nbformat": 4,
 "nbformat_minor": 5
}
