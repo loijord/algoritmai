{
 "cells": [
  {
   "cell_type": "markdown",
   "id": "2e6c1895",
   "metadata": {},
   "source": [
    "Dvi ultravioletinių spindulių kameros, nukreiptos į tą patį lauką, fiksuoja karštųjų taškų skaičių. Jos įjungtos į bendrą tinklą, kuris leidžia peržiūrėti tik kiek taškų užfiksavo pirmoji kamera tam tikruose kadruose, ir kiek užfiksavo antroji. Kadrai gali sutapti arba skirtis. Sudarykite bendrą abiejų kamerų užfiksuotų kadrų sąrašą ir parašykite rezultatus, kuriuos gavo kamera kiekviename iš tų kadrų. Jei kamera vaizdo tuo metu nefiksavo, rašykite 0.\n",
    "\n",
    "Šaltinis: [How to create a tensor from sparse data?](https://stackoverflow.com/questions/70209818/how-to-create-a-tensor-from-sparse-data)\n",
    "\n",
    "## MWE\n",
    "### Input\n",
    "**Pirmos kameros duomenys**\n",
    "\n",
    "    x0 = [200, 201, 203, 206, 207]\n",
    "    y0 = [5, 10, 7, 15, 20]\n",
    "    \n",
    "**Antros kameros duomenys**\n",
    "\n",
    "    x1 = [201, 204, 206, 207]\n",
    "    y1 = [10, 15, 3, 20]\n",
    "    \n",
    "### Expected output\n",
    "\n",
    "**Abiejų kamerų duomenys**\n",
    "\n",
    "    M = [[200, 201, 203, 204, 206, 207], # abiejų kamerų kadrai\n",
    "         [5, 10, 7, 0, 15, 20], # pirmos kameros duomenys\n",
    "         [0, 10, 0, 15, 3, 20]] # antros kameros duomenys"
   ]
  },
  {
   "cell_type": "markdown",
   "id": "a7f0c675",
   "metadata": {},
   "source": [
    "## Solution"
   ]
  },
  {
   "cell_type": "code",
   "execution_count": 3,
   "id": "61c14b8a",
   "metadata": {},
   "outputs": [
    {
     "data": {
      "text/plain": [
       "array([[200, 201, 203, 204, 206, 207],\n",
       "       [  5,  10,   7,   0,  15,  20],\n",
       "       [  0,  10,   0,  15,   3,  20]])"
      ]
     },
     "execution_count": 3,
     "metadata": {},
     "output_type": "execute_result"
    }
   ],
   "source": [
    "import numpy as np\n",
    "\n",
    "def numpy_merge(camera1, camera2):\n",
    "    samples = np.unique(camera1[0] + camera2[0]) #assuming x0 and x1 are lists\n",
    "    M = np.zeros((3, len(samples)), dtype=int)\n",
    "    M[0] = samples\n",
    "    M[1, np.searchsorted(samples, camera1[0])] = camera1[1]\n",
    "    M[2, np.searchsorted(samples, camera2[0])] = camera2[1]\n",
    "    return M\n",
    "\n",
    "c1 = ([200, 201, 203, 206, 207], [5, 10, 7, 15, 20])\n",
    "c2 = ([201, 204, 206, 207], [10, 15, 3, 20])\n",
    "numpy_merge(c1, c2)"
   ]
  }
 ],
 "metadata": {
  "kernelspec": {
   "display_name": "Python 3 (ipykernel)",
   "language": "python",
   "name": "python3"
  },
  "language_info": {
   "codemirror_mode": {
    "name": "ipython",
    "version": 3
   },
   "file_extension": ".py",
   "mimetype": "text/x-python",
   "name": "python",
   "nbconvert_exporter": "python",
   "pygments_lexer": "ipython3",
   "version": "3.7.11"
  }
 },
 "nbformat": 4,
 "nbformat_minor": 5
}
