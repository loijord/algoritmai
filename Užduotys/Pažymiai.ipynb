{
 "cells": [
  {
   "cell_type": "markdown",
   "id": "2304b5f3",
   "metadata": {},
   "source": [
    "Informatikos mokytojas kiekvienai klasei atspausdino kiekvienos klasės pažymių pasiskirstymo lenteles. Dabar jis norėtų kiekvienai klasei sudaryti po variacinę šių pažymių eilutę. Kaip jam tai padaryti? \n",
    "\n",
    "Šaltinis: [Create histogram from two arrays](https://stackoverflow.com/a/70209814/3044825)"
   ]
  },
  {
   "cell_type": "markdown",
   "id": "ed5a6fe3",
   "metadata": {},
   "source": [
    "## MWE\n",
    "### Input\n",
    "    def create_histogram(mu, sigma, size):\n",
    "        arr = np.random.normal(mu, sigma, size).astype(int)\n",
    "        N, M = arr.shape[0], np.max(arr)+1\n",
    "        bincount_2D = np.zeros(shape=(N, M), dtype=int)\n",
    "        advanced_indexing = np.repeat(np.arange(N), arr.shape[1]), arr.ravel()\n",
    "        np.add.at(bincount_2D, advanced_indexing, 1)\n",
    "        return bincount_2D[:,1:11]\n",
    "\n",
    "    X = create_histogram(6.5, 2, size=(6, 25))\n",
    "\n",
    "or:\n",
    "\n",
    "    X = np.array([[0, 1, 1, 2, 3, 7, 7, 2, 0, 1],\n",
    "                  [0, 0, 3, 3, 5, 2, 6, 5, 1, 0],\n",
    "                  [0, 0, 3, 1, 5, 6, 5, 3, 2, 0],\n",
    "                  [0, 0, 2, 3, 3, 5, 3, 4, 4, 1],\n",
    "                  [0, 2, 2, 3, 5, 3, 4, 1, 3, 1],\n",
    "                  [1, 0, 0, 2, 5, 2, 5, 6, 3, 1]])\n",
    "                  \n",
    "### Expected output\n",
    "    [[2, 3, 4, 4, 5, 5, 5, 6, 6, 6, 6, 6, 6, 6, 7, 7, 7, 7, 7, 7, 7, 8, 8, 10],\n",
    "     [3, 3, 3, 4, 4, 4, 5, 5, 5, 5, 5, 6, 6, 7, 7, 7, 7, 7, 7, 8, 8, 8, 8, 8, 9],\n",
    "     [3, 3, 3, 4, 5, 5, 5, 5, 5, 6, 6, 6, 6, 6, 6, 7, 7, 7, 7, 7, 8, 8, 8, 9, 9],\n",
    "     [3, 3, 4, 4, 4, 5, 5, 5, 6, 6, 6, 6, 6, 7, 7, 7, 8, 8, 8, 8, 9, 9, 9, 9, 10],\n",
    "     [2, 2, 3, 3, 4, 4, 4, 5, 5, 5, 5, 5, 6, 6, 6, 7, 7, 7, 7, 8, 9, 9, 9, 10],\n",
    "     [1, 4, 4, 5, 5, 5, 5, 5, 6, 6, 7, 7, 7, 7, 7, 8, 8, 8, 8, 8, 8, 9, 9, 9, 10]]"
   ]
  },
  {
   "cell_type": "markdown",
   "id": "98863f03",
   "metadata": {},
   "source": [
    "### Solutions"
   ]
  },
  {
   "cell_type": "code",
   "execution_count": 55,
   "id": "9fe2f685",
   "metadata": {},
   "outputs": [
    {
     "name": "stdout",
     "output_type": "stream",
     "text": [
      "[2, 3, 4, 4, 5, 5, 5, 6, 6, 6, 6, 6, 6, 6, 7, 7, 7, 7, 7, 7, 7, 8, 8, 10]\n",
      "[3, 3, 3, 4, 4, 4, 5, 5, 5, 5, 5, 6, 6, 7, 7, 7, 7, 7, 7, 8, 8, 8, 8, 8, 9]\n",
      "[3, 3, 3, 4, 5, 5, 5, 5, 5, 6, 6, 6, 6, 6, 6, 7, 7, 7, 7, 7, 8, 8, 8, 9, 9]\n",
      "[3, 3, 4, 4, 4, 5, 5, 5, 6, 6, 6, 6, 6, 7, 7, 7, 8, 8, 8, 8, 9, 9, 9, 9, 10]\n",
      "[2, 2, 3, 3, 4, 4, 4, 5, 5, 5, 5, 5, 6, 6, 6, 7, 7, 7, 7, 8, 9, 9, 9, 10]\n",
      "[1, 4, 4, 5, 5, 5, 5, 5, 6, 6, 7, 7, 7, 7, 7, 8, 8, 8, 8, 8, 8, 9, 9, 9, 10]\n"
     ]
    }
   ],
   "source": [
    "def numpy_rank(X):\n",
    "    marks_ravel = np.tile(np.arange(1, 11), (len(X),1))\n",
    "    classes = np.sum(X, axis=1)[:-1] #amount of students in each class\n",
    "    single_rank = np.repeat(marks_ravel, X.ravel())\n",
    "    split_classes = np.split(single_rank, np.cumsum(classes))\n",
    "    return split_classes\n",
    "    \n",
    "for n in numpy_rank(X):\n",
    "    print(n.tolist())"
   ]
  }
 ],
 "metadata": {
  "kernelspec": {
   "display_name": "Python 3 (ipykernel)",
   "language": "python",
   "name": "python3"
  },
  "language_info": {
   "codemirror_mode": {
    "name": "ipython",
    "version": 3
   },
   "file_extension": ".py",
   "mimetype": "text/x-python",
   "name": "python",
   "nbconvert_exporter": "python",
   "pygments_lexer": "ipython3",
   "version": "3.7.11"
  }
 },
 "nbformat": 4,
 "nbformat_minor": 5
}
